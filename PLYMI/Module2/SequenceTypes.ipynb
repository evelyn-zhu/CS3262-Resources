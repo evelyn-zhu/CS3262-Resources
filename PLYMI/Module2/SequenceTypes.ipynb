{
 "cells": [
  {
   "cell_type": "markdown",
   "metadata": {},
   "source": [
    "# Sequence Types\n",
    "\n",
    "<div class=\"alert alert-warning\">\n",
    "\n",
    "**Note**: \n",
    "\n",
    "There are reading-comprehension exercises included throughout the text. These are meant to help you put your reading to practice. Solutions for the exercises are included at the bottom of this page.\n",
    "</div>\n",
    "\n",
    "The following objects are all example of sequences:"
   ]
  },
  {
   "cell_type": "code",
   "execution_count": null,
   "metadata": {},
   "outputs": [],
   "source": [
    "# examples of sequences\n",
    "\n",
    "# a list\n",
    "[0, None, -2, 1]\n",
    "\n",
    "# a string\n",
    "\"hello out there\"\n",
    "\n",
    "# a tuple\n",
    "(\"a\", False, 0, 1)\n",
    "\n",
    "# a NumPy array\n",
    "numpy.ndarray([0.2, 0.4, 0.6, 0.8])"
   ]
  },
  {
   "cell_type": "markdown",
   "metadata": {},
   "source": [
    "Being able to work with sequences of objects/data is so important that it warrants us to take our first (relatively) deep dive into Python. The preceding reading introduced Python lists and strings, two important objects that are built into the Python language. Although quite distinct from one another in terms of what they can contain, *lists and strings are both types of sequences* - they store a finite collection of objects whose ordering matters (e.g. `\"cat\"` and `\"tac\"` should be considered distinct strings). As such, lists, strings, and the other sequence types in Python all share a common interface for allowing users to inspect, retrieve, and summarize their contents.\n",
    "\n",
    "In this section, we will:\n",
    "\n",
    "- Introduce tuples, the last built-in sequence type that we have yet to encounter. \n",
    "- Demonstrate the common interface that can be used to inspect and summarize the contents of a sequence.\n",
    "- Detail the all-important indexing scheme used by Python, which will allow us to access specific items or subsequences from a sequence."
   ]
  },
  {
   "cell_type": "markdown",
   "metadata": {},
   "source": [
    "## Tuples\n",
    "The last built-in sequence type that we have yet to encounter is the `tuple` type. A tuple is very similar to a list, in that it can store a sequence of arbitrary objects (a mix of numbers, strings, lists, other tuples, etc.). Where lists are constructed using square-brackets, tuples use parentheses:"
   ]
  },
  {
   "cell_type": "code",
   "execution_count": null,
   "metadata": {},
   "outputs": [],
   "source": [
    "# creating a tuple\n",
    "x = (1, \"a\", 2)  # tuple with 3 entries"
   ]
  },
  {
   "cell_type": "code",
   "execution_count": null,
   "metadata": {},
   "outputs": [],
   "source": [
    "# (3) does not make a tuple with one entry\n",
    "# you must provide a trailing comma in this \n",
    "# instance \n",
    "y = (3,)         # a tuple with 1 entry"
   ]
  },
  {
   "cell_type": "code",
   "execution_count": null,
   "metadata": {},
   "outputs": [],
   "source": [
    "type(x)"
   ]
  },
  {
   "cell_type": "code",
   "execution_count": null,
   "metadata": {},
   "outputs": [],
   "source": [
    "isinstance(y, tuple)"
   ]
  },
  {
   "cell_type": "markdown",
   "metadata": {},
   "source": [
    "<div class=\"alert alert-warning\">\n",
    "\n",
    "**Checking multiple types**: \n",
    "\n",
    "`isinstance` can be used to check multiple types at once, by supplying it a tuple of types. That is,"
   ]
  },
  {
   "cell_type": "code",
   "execution_count": null,
   "metadata": {},
   "outputs": [],
   "source": [
    "isinstance(x, (tuple, list, str))"
   ]
  },
  {
   "cell_type": "markdown",
   "metadata": {},
   "source": [
    "Will check if `x` is a tuple *or* a list *or* a string. \n",
    "</div>"
   ]
  },
  {
   "cell_type": "markdown",
   "metadata": {},
   "source": [
    "Unlike a list, *once a tuple is formed, it cannot be changed*. That is, a tuple is *immutable*, whereas a list is *mutable*. Tuples generally consume less memory than do lists, since it is known that a tuple will not change in size. Furthermore, tuples come in handy when you want to ensure that a sequence of data cannot be changed by subsequent code."
   ]
  },
  {
   "cell_type": "code",
   "execution_count": null,
   "metadata": {},
   "outputs": [],
   "source": [
    "# the contents of a list can be changed: it is \"mutable\"\n",
    "x = [1, \"moo\", None]"
   ]
  },
  {
   "cell_type": "code",
   "execution_count": null,
   "metadata": {},
   "outputs": [],
   "source": [
    "x[0] = 2"
   ]
  },
  {
   "cell_type": "code",
   "execution_count": null,
   "metadata": {},
   "outputs": [],
   "source": [
    "x"
   ]
  },
  {
   "cell_type": "code",
   "execution_count": null,
   "metadata": {},
   "outputs": [],
   "source": [
    "# the contents of a tuple cannot be changed: it is \"immutable\"\n",
    "y = (1, \"moo\", None)  # (a, b, ...) creates a tuple"
   ]
  },
  {
   "cell_type": "code",
   "execution_count": null,
   "metadata": {},
   "outputs": [],
   "source": [
    "y[0] = 2"
   ]
  },
  {
   "cell_type": "markdown",
   "metadata": {},
   "source": [
    "`tuple` can be used to convert other sequences (other iterables, more generally) into tuples. `str` and `list` behave similarly."
   ]
  },
  {
   "cell_type": "code",
   "execution_count": null,
   "metadata": {},
   "outputs": [],
   "source": [
    "# `tuple` can create a tuple out of other sequences\n",
    "x = [2, 4, 8]"
   ]
  },
  {
   "cell_type": "code",
   "execution_count": null,
   "metadata": {},
   "outputs": [],
   "source": [
    "y = tuple(x)"
   ]
  },
  {
   "cell_type": "code",
   "execution_count": null,
   "metadata": {},
   "outputs": [],
   "source": [
    "x"
   ]
  },
  {
   "cell_type": "code",
   "execution_count": null,
   "metadata": {},
   "outputs": [],
   "source": [
    "y"
   ]
  },
  {
   "cell_type": "markdown",
   "metadata": {},
   "source": [
    "## Working with sequences\n",
    "The following summarizes the common interface that is shared by Python's different types of sequence, which includes lists, tuples, and strings. This interface allows you to inspect, summarize, join, and retrieve members from any variety of sequence.\n",
    "\n",
    "**Checking if an object is contained within a sequence:** `obj in seq`"
   ]
  },
  {
   "cell_type": "code",
   "execution_count": null,
   "metadata": {},
   "outputs": [],
   "source": [
    "# using 'in' and 'not in' for membership checking\n",
    "x = (1, 3, 5)"
   ]
  },
  {
   "cell_type": "code",
   "execution_count": null,
   "metadata": {},
   "outputs": [],
   "source": [
    "3 in x"
   ]
  },
  {
   "cell_type": "code",
   "execution_count": null,
   "metadata": {},
   "outputs": [],
   "source": [
    "0 in x"
   ]
  },
  {
   "cell_type": "code",
   "execution_count": null,
   "metadata": {},
   "outputs": [],
   "source": [
    "0 not in x"
   ]
  },
  {
   "cell_type": "code",
   "execution_count": null,
   "metadata": {},
   "outputs": [],
   "source": [
    "# strings can also test for sub-sequence membership\n",
    "\"cat\" in \"the cat in the hat\""
   ]
  },
  {
   "cell_type": "code",
   "execution_count": null,
   "metadata": {},
   "outputs": [],
   "source": [
    "# you cannot test for sub-sequence membership in other\n",
    "# types of sequences\n",
    "[1, 2] in [1, 2, 3, 4]"
   ]
  },
  {
   "cell_type": "code",
   "execution_count": null,
   "metadata": {},
   "outputs": [],
   "source": [
    "# the list [1, 2] must be an element of the list\n",
    "# to be seen as a member\n",
    "[1, 2] in [None, [1, 2], None]"
   ]
  },
  {
   "cell_type": "markdown",
   "metadata": {},
   "source": [
    "**Concatenating sequences:** `seq1 + seq2`"
   ]
  },
  {
   "cell_type": "code",
   "execution_count": null,
   "metadata": {},
   "outputs": [],
   "source": [
    "# concatenating sequences with '+'\n",
    "[1, 2] + [3, 4]  # creates a new list"
   ]
  },
  {
   "cell_type": "code",
   "execution_count": null,
   "metadata": {},
   "outputs": [],
   "source": [
    "\"c\" + \"at\""
   ]
  },
  {
   "cell_type": "markdown",
   "metadata": {},
   "source": [
    "**Repeated concatenation of a sequence:** `n*seq1` or `seq1*n`"
   ]
  },
  {
   "cell_type": "code",
   "execution_count": null,
   "metadata": {},
   "outputs": [],
   "source": [
    "# equivalent to `cat + cat + cat`\n",
    "\"cat\" * 3   # creates a new string"
   ]
  },
  {
   "cell_type": "code",
   "execution_count": null,
   "metadata": {},
   "outputs": [],
   "source": [
    "4 * (1, 5)  # creates a new tuple"
   ]
  },
  {
   "cell_type": "markdown",
   "metadata": {},
   "source": [
    "**Asking for the number of members in a sequence:** `len(seq)`"
   ]
  },
  {
   "cell_type": "code",
   "execution_count": null,
   "metadata": {},
   "outputs": [],
   "source": [
    "# getting the length of a sequence\n",
    "len(\"dog\")"
   ]
  },
  {
   "cell_type": "code",
   "execution_count": null,
   "metadata": {},
   "outputs": [],
   "source": [
    "len([\"dog\", \"dog\"])"
   ]
  },
  {
   "cell_type": "code",
   "execution_count": null,
   "metadata": {},
   "outputs": [],
   "source": [
    "len([])"
   ]
  },
  {
   "cell_type": "markdown",
   "metadata": {},
   "source": [
    "**Getting the index of the first occurrence of** `x` **in a sequence**: `seq.index(x)`"
   ]
  },
  {
   "cell_type": "code",
   "execution_count": null,
   "metadata": {},
   "outputs": [],
   "source": [
    "\"cat cat cat\".index(\"t\")  # 't' first occurs at index-2"
   ]
  },
  {
   "cell_type": "code",
   "execution_count": null,
   "metadata": {},
   "outputs": [],
   "source": [
    "# `index` doesn't look within sequences contained by the outer sequence\n",
    "# e.g. it sees 1, 2, and \"moo\", not 1, 2, \"m\", \"o\", \"o\"\n",
    "[1, 2, \"moo\"].index(\"m\")"
   ]
  },
  {
   "cell_type": "markdown",
   "metadata": {},
   "source": [
    "**Counting the number of occurrences of** `x` **in a sequence**: `seq.count(x)`"
   ]
  },
  {
   "cell_type": "code",
   "execution_count": null,
   "metadata": {},
   "outputs": [],
   "source": [
    "\"the cat in the hat\".count(\"h\")"
   ]
  },
  {
   "cell_type": "code",
   "execution_count": null,
   "metadata": {},
   "outputs": [],
   "source": [
    "# `count` doesn't look within sequences contained by the outer sequence\n",
    "# thus is doesn't \"see\" the 1 within `[1, 2]`.\n",
    "[1, [1, 2], \"111\", 1].count(1)"
   ]
  },
  {
   "cell_type": "markdown",
   "metadata": {},
   "source": [
    "<div class=\"alert alert-info\">\n",
    "\n",
    "**Reading Comprehension: Basics of sequences**\n",
    "\n",
    "1\\. Change the list `[True, None, 22]` into a tuple.\n",
    "\n",
    "2\\. How many sequence-types have we discussed thus far? Which of these produce objects that are immutable? Which of these produce objects that are mutable? For those types that are mutable, write a piece of example code that mutates an object.\n",
    "\n",
    "</div>"
   ]
  },
  {
   "cell_type": "markdown",
   "metadata": {},
   "source": [
    "### Introducing Indexing and Slicing\n",
    "We can access individual items from a sequence by specifying the *index* of that item. Python ascribes the 1st entry in a sequence index-0, the second entry index-1, and so on."
   ]
  },
  {
   "cell_type": "code",
   "execution_count": null,
   "metadata": {},
   "outputs": [],
   "source": [
    "# accessing individual items from a sequence via indexing\n",
    "x = \"abcdefg\""
   ]
  },
  {
   "cell_type": "code",
   "execution_count": null,
   "metadata": {},
   "outputs": [],
   "source": [
    "x[0]"
   ]
  },
  {
   "cell_type": "code",
   "execution_count": null,
   "metadata": {},
   "outputs": [],
   "source": [
    "x[2]"
   ]
  },
  {
   "cell_type": "markdown",
   "metadata": {},
   "source": [
    "We can also \"slice\" a sequence, specifying a start-index and stop-index, and return a subsequence of the items contained within the slice:"
   ]
  },
  {
   "cell_type": "code",
   "execution_count": null,
   "metadata": {},
   "outputs": [],
   "source": [
    "# \"slicing\" a sequence produces a subsequence of its contents \n",
    "x[0:3] # include items 0, 1, 2 (3 is excluded)"
   ]
  },
  {
   "cell_type": "markdown",
   "metadata": {},
   "source": [
    "It is critical to have a good grasp of how to access a sequence's members and subsequences by using indexing and slicing. This indexing scheme will also appear in our work with NumPy arrays. We will proceed by providing a detailed rundown of Python's indexing and slicing mechanisms.\n",
    "\n",
    "### Indexing\n",
    "Python allows you to retrieve individual members of a sequence by specifying the *index* of that member, which is the integer that uniquely identifies that member's position in the sequence. *Python implements 0-based indexing for its sequences*, and also permits the use of negative integers to count from the end of the sequence. Consider the string `\"Python\"`. The following diagram displays the indices for this sequence:"
   ]
  },
  {
   "cell_type": "markdown",
   "metadata": {},
   "source": [
    "+---+---+---+---+---+---+\n",
    " | P | y | t | h | o | n |\n",
    " +---+---+---+---+---+---+\n",
    "   0   1   2   3   4   5  \n",
    "  -6  -5  -4  -3  -2  -1"
   ]
  },
  {
   "cell_type": "markdown",
   "metadata": {},
   "source": [
    "The first row of numbers gives the position of the indices 0…5 in the string; the second row gives the corresponding negative indices. \n",
    "\n",
    "**Positive Indices** \n",
    "\n",
    "- 0 $\\rightarrow$ P\n",
    "- 1 $\\rightarrow$ y\n",
    "- 2 $\\rightarrow$ t\n",
    "- 3 $\\rightarrow$ h\n",
    "- 4 $\\rightarrow$ o\n",
    "- 5 $\\rightarrow$ n\n",
    "\n",
    "**Negative Indices** \n",
    "\n",
    "- -6 $\\rightarrow$ P\n",
    "- -5 $\\rightarrow$ y\n",
    "- -4 $\\rightarrow$ t\n",
    "- -3 $\\rightarrow$ h\n",
    "- -2 $\\rightarrow$ o\n",
    "- -1 $\\rightarrow$ n\n",
    "\n",
    "Given this indexing scheme, Python reserves the use of square brackets following a variable name or object, as the \"get-item\" syntax: `seq[index]`."
   ]
  },
  {
   "cell_type": "code",
   "execution_count": null,
   "metadata": {},
   "outputs": [],
   "source": [
    "# Demonstrating indexing into sequences\n",
    "x = [1, 2, 3, 4]"
   ]
  },
  {
   "cell_type": "code",
   "execution_count": null,
   "metadata": {},
   "outputs": [],
   "source": [
    "# this is known as the \"get-item\" syntax\n",
    "x[0]     # indexing starts at 0"
   ]
  },
  {
   "cell_type": "code",
   "execution_count": null,
   "metadata": {},
   "outputs": [],
   "source": [
    "x[-4]    # each entry has a positive index and negative index"
   ]
  },
  {
   "cell_type": "code",
   "execution_count": null,
   "metadata": {},
   "outputs": [],
   "source": [
    "x[-1]     # negative indexing is relative to the end of the sequence"
   ]
  },
  {
   "cell_type": "code",
   "execution_count": null,
   "metadata": {},
   "outputs": [],
   "source": [
    "\"cat\"[2]  # you can index directly into a sequence-object"
   ]
  },
  {
   "cell_type": "code",
   "execution_count": null,
   "metadata": {},
   "outputs": [],
   "source": [
    "(True, False)[-1]"
   ]
  },
  {
   "cell_type": "markdown",
   "metadata": {},
   "source": [
    "<div class=\"alert alert-info\">\n",
    "\n",
    "**Takeaway**:\n",
    "\n",
    "To \"index into\" a sequence is to retrieve a single member by specifying an integer index, that indicates the place of that member in the sequence: `seq[index]`. Python uses a zero-based indexing system, meaning that the first element in a sequence is located at position 0. Negative indices allow you to refer to an item's position relative to the end of the list.  \n",
    "</div>"
   ]
  },
  {
   "cell_type": "markdown",
   "metadata": {},
   "source": [
    "### Slicing\n",
    "Slicing a sequence allows us to retrieve a subsequence of items, based on the indexing scheme that we reviewed in the preceeding subsection. Specifying a slice consists of:\n",
    "\n",
    "- A start-index: the sequence-position where the slice begins (this item is *included* in the slice).\n",
    "- A stop-index: the sequence-position where the slice ends (this item is *excluded* from the slice).\n",
    "- A step-size, which permits us to take every item within the start & stop bounds, or every *other* item, and so on. It is important to note that a negative step-size permits us to traverse a sequence *in reveresed order*. \n",
    "\n",
    "The basic syntax for slicing is: `seq[start:stop:step]`, using colons to separate the start, stop, and step values."
   ]
  },
  {
   "cell_type": "code",
   "execution_count": null,
   "metadata": {},
   "outputs": [],
   "source": [
    "# demonstrating the basics of slicing a sequence\n",
    "seq = \"abcdefg\""
   ]
  },
  {
   "cell_type": "code",
   "execution_count": null,
   "metadata": {},
   "outputs": [],
   "source": [
    "# start:0, stop:4, step:1\n",
    "seq[0:4:1]"
   ]
  },
  {
   "cell_type": "code",
   "execution_count": null,
   "metadata": {},
   "outputs": [],
   "source": [
    "# start:1, stop:4, step:1\n",
    "seq[1:4:1]"
   ]
  },
  {
   "cell_type": "code",
   "execution_count": null,
   "metadata": {},
   "outputs": [],
   "source": [
    "# start:0, stop:5, step:2\n",
    "seq[0:5:2] # get every other entry within [start, stop)"
   ]
  },
  {
   "cell_type": "code",
   "execution_count": null,
   "metadata": {},
   "outputs": [],
   "source": [
    "# starting and stopping at the same index produces an empty sequence\n",
    "# start:0, stop:0, step:1\n",
    "seq[0:0:1]"
   ]
  },
  {
   "cell_type": "markdown",
   "metadata": {},
   "source": [
    "Slicing provides sensible default start, stop, and step values. Their default values are:\n",
    "\n",
    "- start: 0\n",
    "- stop: `len(seq)`\n",
    "- step: 1\n",
    "\n",
    "You can omit any of these values or specify `None` in that entry to use the default value. You can omit the second colon entirely, and the slice will use a step-size of 1."
   ]
  },
  {
   "cell_type": "code",
   "execution_count": null,
   "metadata": {},
   "outputs": [],
   "source": [
    "# using default start, stop, and step values\n",
    "seq = \"abcdefg\""
   ]
  },
  {
   "cell_type": "code",
   "execution_count": null,
   "metadata": {},
   "outputs": [],
   "source": [
    "# start: 0, stop: 7, step: 1 \n",
    "seq[:]  # equivalent: `seq[None:None]`"
   ]
  },
  {
   "cell_type": "code",
   "execution_count": null,
   "metadata": {},
   "outputs": [],
   "source": [
    "# start: 0, stop: 7, step: 2\n",
    "seq[::2]"
   ]
  },
  {
   "cell_type": "markdown",
   "metadata": {},
   "source": [
    "Negative values can also be used in a slice. Specifying a negative step-value instructs the slice to traverse the sequence *in reverse order*. In this case, the default start and stop values will change so that `seq[::-1]` produces the sequence in reverse."
   ]
  },
  {
   "cell_type": "code",
   "execution_count": null,
   "metadata": {},
   "outputs": [],
   "source": [
    "# using a negative step size reverses the order of the sequence\n",
    "seq[::-1]"
   ]
  },
  {
   "cell_type": "markdown",
   "metadata": {},
   "source": [
    "As we saw with using negative indices, specifying negative start/stop values in a slice permits us to indicate indices relative to the end of the list."
   ]
  },
  {
   "cell_type": "code",
   "execution_count": null,
   "metadata": {},
   "outputs": [],
   "source": [
    "# a slice returning the last two values of the sequence\n",
    "seq[-2:]"
   ]
  },
  {
   "cell_type": "code",
   "execution_count": null,
   "metadata": {},
   "outputs": [],
   "source": [
    "# a slice returning all but the last two values of the sequence\n",
    "seq[:-2]"
   ]
  },
  {
   "cell_type": "markdown",
   "metadata": {},
   "source": [
    "Although the colon-syntax for slicing, `seq[start:stop:step]`, appears nearly ubiquitously in Python code, it is important to know that there is a built-in `slice` object that Python uses to form slices. It accepts the same start, stop, and step values, and produces the same sort of slicing behavior:"
   ]
  },
  {
   "cell_type": "code",
   "execution_count": null,
   "metadata": {},
   "outputs": [],
   "source": [
    "# using the `slice` object explicitly\n",
    "seq = \"abcdefg\""
   ]
  },
  {
   "cell_type": "code",
   "execution_count": null,
   "metadata": {},
   "outputs": [],
   "source": [
    "seq[slice(0, 3, 1)]"
   ]
  },
  {
   "cell_type": "markdown",
   "metadata": {},
   "source": [
    "This gives you the ability to work with slices in more creative ways in your code, since it allows you to assign a variable to a slice."
   ]
  },
  {
   "cell_type": "code",
   "execution_count": null,
   "metadata": {},
   "outputs": [],
   "source": [
    "# using the `slice` object to slice several sequences\n",
    "seq1 = \"apple\""
   ]
  },
  {
   "cell_type": "code",
   "execution_count": null,
   "metadata": {},
   "outputs": [],
   "source": [
    "seq2 = (1, 2, 3, 4, 5)"
   ]
  },
  {
   "cell_type": "code",
   "execution_count": null,
   "metadata": {},
   "outputs": [],
   "source": [
    "seq3 = [True, False, None]"
   ]
  },
  {
   "cell_type": "code",
   "execution_count": null,
   "metadata": {},
   "outputs": [],
   "source": [
    "reverse = slice(None, None, -1)"
   ]
  },
  {
   "cell_type": "code",
   "execution_count": null,
   "metadata": {},
   "outputs": [],
   "source": [
    "seq1[reverse]"
   ]
  },
  {
   "cell_type": "code",
   "execution_count": null,
   "metadata": {},
   "outputs": [],
   "source": [
    "seq2[reverse]"
   ]
  },
  {
   "cell_type": "code",
   "execution_count": null,
   "metadata": {},
   "outputs": [],
   "source": [
    "seq3[reverse]"
   ]
  },
  {
   "cell_type": "markdown",
   "metadata": {},
   "source": [
    "<div class=\"alert alert-info\">\n",
    "\n",
    "**Takeaway**:\n",
    "\n",
    "To \"slice\" a sequence is to retrieve a subsequence by specifying a start-index (included), a stop-index (excluded), and a step value. Negative values can be supplied for these, and default values are available as well. The common slicing syntax `seq[start:stop:step]` is actually just a nice shorthand for using a `slice` object: `seq[slice(start, stop, step)]`.  \n",
    "</div>"
   ]
  },
  {
   "cell_type": "markdown",
   "metadata": {},
   "source": [
    "#### Handling out-of-bounds indices\n",
    "Attempting to get a member from a sequence using an out-of-bounds index will raise an `IndexError`:"
   ]
  },
  {
   "cell_type": "code",
   "execution_count": null,
   "metadata": {},
   "outputs": [],
   "source": [
    "x = [0, 1, 2, 3, 4, 5] # x only contains 6 items"
   ]
  },
  {
   "cell_type": "code",
   "execution_count": null,
   "metadata": {},
   "outputs": [],
   "source": [
    "x[6]  # try to access the 7th item in `x`"
   ]
  },
  {
   "cell_type": "code",
   "execution_count": null,
   "metadata": {},
   "outputs": [],
   "source": [
    "x[-7]"
   ]
  },
  {
   "cell_type": "markdown",
   "metadata": {},
   "source": [
    "However, specifying an out-of-bounds start or stop value for a slice does not raise an error. Instead, the nearest valid start/stop value is used instead:"
   ]
  },
  {
   "cell_type": "code",
   "execution_count": null,
   "metadata": {},
   "outputs": [],
   "source": [
    "# no bounds checking is used for slicing\n",
    "x[:10000]"
   ]
  },
  {
   "cell_type": "markdown",
   "metadata": {},
   "source": [
    "<div class=\"alert alert-warning\">\n",
    "\n",
    "**Warning!**\n",
    "\n",
    "The lack of bounds-checking for slices can be a major source of errors when starting out with Python. Just because your code isn't raising an error does not mean that you have computed the correct start/stop values for your slice!\n",
    "</div>"
   ]
  },
  {
   "cell_type": "markdown",
   "metadata": {},
   "source": [
    "<div class=\"alert alert-info\">\n",
    "\n",
    "**Reading Comprehension: Indexing and Slicing Sequences**\n",
    "\n",
    "In Python, a **sequence** is any ordered collection of objects whose contents can be accessed via \"indexing\". A sub-sequence can be accessed by \"slicing\" the sequence. You saw, in the required reading, that Python's lists and strings are both examples of sequences. The following questions will help you explore the power of sequence indexing and slicing.\n",
    "\n",
    "Given the tuple:"
   ]
  },
  {
   "cell_type": "code",
   "execution_count": null,
   "metadata": {},
   "outputs": [],
   "source": [
    "x = (0, 2, 4, 6, 8)"
   ]
  },
  {
   "cell_type": "markdown",
   "metadata": {},
   "source": [
    "Slice or index into `x` to produce the following:\n",
    "\n",
    "1. `0`\n",
    "2. `8` (using a negative index)\n",
    "3. `(2, 4, 6)` (using a slice-object)\n",
    "4. `(4,)`\n",
    "5. `4` \n",
    "6. `4` (using a negative index)\n",
    "7. `(6, 8)` (using a negative index for the start of the slice)\n",
    "8. `(2, 6)`\n",
    "9. `(8, 6, 4, 2)`\n",
    "\n",
    "</div>"
   ]
  },
  {
   "cell_type": "markdown",
   "metadata": {},
   "source": [
    "<div class=\"alert alert-info\">\n",
    "\n",
    "**Reading Comprehension: Checking Your General Understanding**\n",
    "\n",
    "Write a piece of code for each of the following tasks. If the task is impossible/ill-posed explain why.\n",
    "\n",
    "1) Using the string \"blogosphere\", slicing, and repeat-concatenation, create the string: 'boopeeboopeeboopeeboopeeboopee'. (hint: how would you slice \"blogosphere\" to produce \"boopee\", think step-size)\n",
    "\n",
    "2) Assume that a tuple, `x`, contains the item `5` in it at least once. Find where that first entry is, and change it to `-5`. For example `(1, 2, 5, 0, 5)` $\\rightarrow$ `(1, 2, -5, 0, 5)`.\n",
    "\n",
    "3) Given a sequence, `x`, and a valid negative index for `x`, `neg_index`, find the corresponding positive-value for that index. That is, if `x = \"cat\"`, and `neg_index = -3`, which is the negative index that would return `\"c\"`, then you would want to return the index `0`. \n",
    "\n",
    "</div>"
   ]
  },
  {
   "cell_type": "markdown",
   "metadata": {},
   "source": [
    "## Links to Official Documentation\n",
    "\n",
    "- [Sequences](https://docs.python.org/3/library/stdtypes.html#typesseq)\n",
    "- [Tuples](https://docs.python.org/3/library/stdtypes.html#tuple)\n",
    "- [Immutable Sequence Types](https://docs.python.org/3/library/stdtypes.html#immutable-sequence-types)\n",
    "- [Mutable Sequence Types](https://docs.python.org/3/library/stdtypes.html#mutable-sequence-types)"
   ]
  }
 ],
 "metadata": {
  "jupytext": {
   "text_representation": {
    "extension": ".md",
    "format_name": "markdown",
    "format_version": "1.2",
    "jupytext_version": "1.9.1"
   }
  },
  "kernelspec": {
   "display_name": "Python 3 (ipykernel)",
   "language": "python",
   "name": "python3"
  },
  "language_info": {
   "codemirror_mode": {
    "name": "ipython",
    "version": 3
   },
   "file_extension": ".py",
   "mimetype": "text/x-python",
   "name": "python",
   "nbconvert_exporter": "python",
   "pygments_lexer": "ipython3",
   "version": "3.8.3"
  },
  "toc": {
   "base_numbering": 1,
   "nav_menu": {},
   "number_sections": true,
   "sideBar": true,
   "skip_h1_title": false,
   "title_cell": "Table of Contents",
   "title_sidebar": "Contents",
   "toc_cell": false,
   "toc_position": {},
   "toc_section_display": true,
   "toc_window_display": false
  }
 },
 "nbformat": 4,
 "nbformat_minor": 4
}
