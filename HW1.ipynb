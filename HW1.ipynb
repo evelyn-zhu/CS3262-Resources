{
  "cells": [
    {
      "cell_type": "markdown",
      "metadata": {
        "id": "view-in-github",
        "colab_type": "text"
      },
      "source": [
        "<a href=\"https://colab.research.google.com/github/evelyn-zhu/CS3262-Resources/blob/main/HW1.ipynb\" target=\"_parent\"><img src=\"https://colab.research.google.com/assets/colab-badge.svg\" alt=\"Open In Colab\"/></a>"
      ]
    },
    {
      "cell_type": "markdown",
      "metadata": {
        "id": "awhCX4Wa3QW4"
      },
      "source": [
        "# Unstructured Data Analytics HW1\n",
        "\n",
        "Name: Junyi Zhu\n",
        "\n",
        "Andrew ID: Junyizh2\n",
        "\n",
        "Collaborators (if none, say \"none\"; do *not* leave this blank): gpt\n",
        "\n",
        "\n",
        "Reminder: you should not be sharing code."
      ]
    },
    {
      "cell_type": "markdown",
      "metadata": {
        "id": "VtlqJPQg3QW-"
      },
      "source": [
        "**Reminder:** As stated in Lecture 1, homework assignments this semester will be submitted as PDFs and, in particular, we will not be re-running your code. Please make sure that you have run all your code cells so that the code cell outputs are actually displayed. To save your Jupyter notebook as a PDF, we recommend simply using your browser's print functionality and using that to print/save the notebook as a PDF."
      ]
    },
    {
      "cell_type": "markdown",
      "metadata": {
        "id": "4XXHUARn3QW_"
      },
      "source": [
        "**Warning: make sure your compute environment is set up first.** This homework assignment assumes that you have already installed Anaconda Python 3 and spaCy. Instructions for installing these are part of the tutorial [here](https://www.andrew.cmu.edu/user/georgech/95-865/Anaconda,%20Jupyter,%20and%20spaCy%20setup%20tutorial.pdf)."
      ]
    },
    {
      "cell_type": "markdown",
      "metadata": {
        "id": "nCt9kcGg3QW_"
      },
      "source": [
        "### Instructions\n",
        "1. Fill in your name, Andrew ID, and collaborators above.\n",
        "2. Fill in the code/text blocks to answer each question.\n",
        "3. Do *not* change any of the existing code provided.\n",
        "4. Run the entire notebook *before* submitting it (as a PDF, as stated above). Again, we will *not* be re-running your code."
      ]
    },
    {
      "cell_type": "markdown",
      "metadata": {
        "id": "UHOqQeCd3QXA"
      },
      "source": [
        "### [Problem 1] Basic Text Analysis [45 pts]\n",
        "\n",
        "This problem involves a mix of Python review (loops, conditionals, counters/dictionaries, sorting) and learning to work with a sizable collection of text data.\n",
        "\n",
        "You will be looking at a phenomenon of \"natural languages\" (i.e., human languages, such as English) called *Zipf's law*, which relates how frequently a word occurs in a language to its \"rank\" (the word with rank 1 is the most frequently occurring word, the word with rank 2 is the second most frequently occurring word, etc). Roughly speaking, the word with rank 1 appears twice as likely as the word with rank 2, and the three times as likely as the word with rank 3, and so forth. (Some details on Zipf's law can be found on [Wikipedia](https://en.wikipedia.org/wiki/Zipf%27s_law).) In this problem, you are going to check whether Zipf's law holds for a real dataset of text documents.\n",
        "\n",
        "The dataset we look at is a collection of the 100 most popular books downloaded from the [Gutenburg Project](https://www.gutenberg.org/browse/scores/top). These 100 books form the corpus that we consider for this problem. Each file contains the text of a book. We will read in all 100 books.\n",
        "\n",
        "Hint: To list all files that match a certain pattern, you can use the `glob` package. Here's an example usage:\n",
        "\n",
        "```python\n",
        "import glob\n",
        "print(glob.glob('./HW1_Dataset/*.txt'))\n",
        "```\n",
        "\n",
        "**(a) Warm-up/basic Python review [15 pts across subparts].** This part serves as a warm-up, getting you familiar with the kind of code we will be writing in this class. Note that throughout part (a), your code should **not** be using spaCy.\n",
        "\n",
        "**Subpart i [5 pts].** Write a loop that iterates through all 100 books; for each book, print out its corresponding file name and also how long the book is in terms of string length (meaning that if we load in the book as a string, we compute the length of the string using the built-in Python function `len`; this is just counting the number of characters).\n",
        "\n",
        "**Please do not actually print out the contents of each book since many of the books are extremely long, and by printing out all the books' contents, you'll end up creating a Jupyter notebook that has a massive file size (and when you save it as a PDF, the PDF will have a crazy number of pages).**\n",
        "\n",
        "Hint: When debugging your code, you may want to first make sure your code runs on a few of the books rather than all 100 (for example, you can start by only having 3 of the text files in `HW1_Dataset`). Once you're confident that your solution is correct on a few text files, then run on all of them! This is a standard approach to debugging code that is meant to handle large datasets.\n",
        "\n",
        "Your output should look like (although there should be 100 books rather than 3 as shown below; also, the ordering of the books might be different on your machine):\n",
        "\n",
        "```\n",
        "./HW1_Dataset/War and Peace by graf Leo Tolstoy (251).txt 3227580\n",
        "./HW1_Dataset/Democracy in America — Volume 1 by Alexis de Tocqueville (147).txt 1148435\n",
        "./HW1_Dataset/Frankenstein; Or, The Modern Prometheus by Mary Wollstonecraft Shelley (501).txt 441034\n",
        "```"
      ]
    },
    {
      "cell_type": "code",
      "execution_count": 51,
      "metadata": {
        "id": "vCN_JUA43QXB",
        "colab": {
          "base_uri": "https://localhost:8080/",
          "height": 0
        },
        "outputId": "30d798b4-f34a-448b-cbee-66eac2b44459"
      },
      "outputs": [
        {
          "output_type": "stream",
          "name": "stdout",
          "text": [
            "Drive already mounted at /content/drive; to attempt to forcibly remount, call drive.mount(\"/content/drive\", force_remount=True).\n",
            "/content/drive/MyDrive/HW1/HW1_Dataset\n",
            "./HW1_Dataset/./Adventures of Huckleberry Finn by Mark Twain (401).txt 593962\n",
            "./HW1_Dataset/./Alice's Adventures in Wonderland by Lewis Carroll (564).txt 163817\n",
            "./HW1_Dataset/./Beowulf An Anglo-Saxon Epic Poem (403).txt 292953\n",
            "./HW1_Dataset/./A Tale of Two Cities by Charles Dickens (425).txt 776702\n",
            "./HW1_Dataset/./A Christmas Carol in Prose; Being a Ghost Story of Christmas by Charles Dickens (265).txt 177758\n",
            "./HW1_Dataset/./Anne of Green Gables by L. M.  Montgomery (114).txt 580635\n",
            "./HW1_Dataset/./A Study in Scarlet by Arthur Conan Doyle (163).txt 262340\n",
            "./HW1_Dataset/./Alice in Wonderland by Lewis Carroll and Alice Gerstenberg (126).txt 104079\n",
            "./HW1_Dataset/./A History of Spanish Literature by James Fitzmaurice-Kelly (109).txt 765918\n",
            "./HW1_Dataset/./Autobiography of Benjamin Franklin by Benjamin Franklin (247).txt 458600\n",
            "./HW1_Dataset/./A Modest Proposal by Jonathan Swift (233).txt 38966\n",
            "./HW1_Dataset/./Democracy in America — Volume 1 by Alexis de Tocqueville (147).txt 1148435\n",
            "./HW1_Dataset/./Carmilla by Joseph Sheridan Le Fanu (135).txt 176408\n",
            "./HW1_Dataset/./Common Sense by Thomas Paine (297).txt 145353\n",
            "./HW1_Dataset/./Beyond Good and Evil by Friedrich Wilhelm Nietzsche (120).txt 402273\n",
            "./HW1_Dataset/./Essays by Ralph Waldo Emerson by Ralph Waldo Emerson (239).txt 557197\n",
            "./HW1_Dataset/./Dracula by Bram Stoker (461).txt 867141\n",
            "./HW1_Dataset/./Candide by Voltaire (180).txt 224924\n",
            "./HW1_Dataset/./Dubliners by James Joyce (219).txt 389199\n",
            "./HW1_Dataset/./Emma by Jane Austen (166).txt 902390\n",
            "./HW1_Dataset/./Essays of Michel de Montaigne — Complete by Michel de Montaigne (205).txt 3033575\n",
            "./HW1_Dataset/./Leaves of Grass by Walt Whitman (164).txt 757361\n",
            "./HW1_Dataset/./Heart of Darkness by Joseph Conrad (213).txt 229835\n",
            "./HW1_Dataset/./Frankenstein; Or, The Modern Prometheus by Mary Wollstonecraft Shelley (501).txt 441034\n",
            "./HW1_Dataset/./Et dukkehjem. English by Henrik Ibsen (557).txt 161241\n",
            "./HW1_Dataset/./Grimms' Fairy Tales by Jacob Grimm and Wilhelm Grimm (429).txt 540241\n",
            "./HW1_Dataset/./Hedda Gabler by Henrik Ibsen (123).txt 193875\n",
            "./HW1_Dataset/./Jane Eyre_ An Autobiography by Charlotte Brontë (290) (Unicode Encoding Conflict).txt 1049267\n",
            "./HW1_Dataset/./Great Expectations by Charles Dickens (293).txt 1013450\n",
            "./HW1_Dataset/./Il Principe. English by Niccolò Machiavelli (428) (Unicode Encoding Conflict).txt 300788\n",
            "./HW1_Dataset/./Gulliver's Travels into Several Remote Nations of the World by Jonathan Swift (136).txt 600105\n",
            "./HW1_Dataset/./My Secret Life, Volumes I. to III. by Anonymous (157).txt 1378627\n",
            "./HW1_Dataset/./Les Misérables by Victor Hugo (165) (Unicode Encoding Conflict).txt 3254333\n",
            "./HW1_Dataset/./Leviathan by Thomas Hobbes (417).txt 1231784\n",
            "./HW1_Dataset/./Narrative of the Life of Frederick Douglass, an American Slave by Frederick Douglass (243).txt 244263\n",
            "./HW1_Dataset/./Persuasion by Jane Austen (2234).txt 486251\n",
            "./HW1_Dataset/./My Fifteen Lost Years by Florence Elizabeth Maybrick (499).txt 383694\n",
            "./HW1_Dataset/./Outpost in the Wilderness_ Fort Wayne, 1706-1828 by Charles Poinsatte (161).txt 363234\n",
            "./HW1_Dataset/./Narrative of the Captivity and Restoration of Mrs. Mary Rowlandson by Mary White Rowlandson (222).txt 123784\n",
            "./HW1_Dataset/./Liberalism by L. T.  Hobhouse (119).txt 305345\n",
            "./HW1_Dataset/./Moby Dick; Or, The Whale by Herman Melville (413).txt 1238569\n",
            "./HW1_Dataset/./On Liberty by John Stuart Mill (116).txt 325922\n",
            "./HW1_Dataset/./Peter Pan by J. M.  Barrie (274).txt 278194\n",
            "./HW1_Dataset/./Metamorphosis by Franz Kafka (483).txt 139056\n",
            "./HW1_Dataset/./Semmering 1912 by Peter Altenberg (221).txt 264946\n",
            "./HW1_Dataset/./The Awakening, and Selected Short Stories by Kate Chopin (192).txt 378936\n",
            "./HW1_Dataset/./Siddhartha by Hermann Hesse (216).txt 236855\n",
            "./HW1_Dataset/./Prestuplenie i nakazanie. English by Fyodor Dostoyevsky (160).txt 1154508\n",
            "./HW1_Dataset/./The Adventures of Tom Sawyer by Mark Twain (371).txt 412712\n",
            "./HW1_Dataset/./The Boy Fortune Hunters in the South Seas by L. Frank  Baum (150).txt 266166\n",
            "./HW1_Dataset/./Sense and Sensibility by Jane Austen (177).txt 693095\n",
            "./HW1_Dataset/./Pride and Prejudice by Jane Austen (1003).txt 704192\n",
            "./HW1_Dataset/./The Boy Fortune Hunters in China by L. Frank  Baum (215).txt 324452\n",
            "./HW1_Dataset/./Robert Greene by Robert Greene (126).txt 760655\n",
            "./HW1_Dataset/./Songs of Innocence, and Songs of Experience by William Blake (166).txt 51724\n",
            "./HW1_Dataset/./The Adventures of Sherlock Holmes by Arthur Conan Doyle (447).txt 581864\n",
            "./HW1_Dataset/./The Federalist Papers by Alexander Hamilton and John Jay and James Madison (116).txt 1167141\n",
            "./HW1_Dataset/./The History of the Peloponnesian War by Thucydides (122).txt 1200021\n",
            "./HW1_Dataset/./The Count of Monte Cristo, Illustrated by Alexandre Dumas (160).txt 2643849\n",
            "./HW1_Dataset/./The Confessions of St. Augustine by Bishop of Hippo Saint Augustine (157).txt 622405\n",
            "./HW1_Dataset/./The Hound of the Baskervilles by Arthur Conan Doyle (223).txt 339188\n",
            "./HW1_Dataset/./The Faery Queen and Her Knights by Alfred John Church (177).txt 447320\n",
            "./HW1_Dataset/./The Guardsman by Homer Greene (175).txt 412900\n",
            "./HW1_Dataset/./The Complete Works of William Shakespeare by William Shakespeare (132).txt 5465100\n",
            "./HW1_Dataset/./The Divine Comedy by Dante, Illustrated by Dante Alighieri (119).txt 2161\n",
            "./HW1_Dataset/./The Iliad by Homer (256).txt 1175588\n",
            "./HW1_Dataset/./The Legend of Sleepy Hollow by Washington Irving (399).txt 89237\n",
            "./HW1_Dataset/./The King James Version of the Bible (132).txt 4351846\n",
            "./HW1_Dataset/./The Importance of Being Earnest_ A Trivial Comedy for Serious People by Oscar Wilde (454).txt 138887\n",
            "./HW1_Dataset/./The Interesting Narrative of the Life of Olaudah Equiano, Or Gustavus Vassa, The African by Equiano (114).txt 471165\n",
            "./HW1_Dataset/./The Law of Storms by John Wilson Ross (110).txt 65264\n",
            "./HW1_Dataset/./The Kama Sutra of Vatsyayana by Vatsyayana (172).txt 351664\n",
            "./HW1_Dataset/./The Life and Adventures of Robinson Crusoe by Daniel Defoe (126).txt 642909\n",
            "./HW1_Dataset/./The Innocents Abroad by Mark Twain (108).txt 1126278\n",
            "./HW1_Dataset/./The Peddler Spy by W. J. Hamilton (356).txt 197390\n",
            "./HW1_Dataset/./The Odyssey by Homer (124).txt 697404\n",
            "./HW1_Dataset/./The Republic by Plato (246).txt 1214387\n",
            "./HW1_Dataset/./The Philosophy of Spiritual Activity by Rudolf Steiner (144).txt 545031\n",
            "./HW1_Dataset/./The Strange Case of Dr. Jekyll and Mr. Hyde by Robert Louis Stevenson (158).txt 158048\n",
            "./HW1_Dataset/./The Strange Case of Dr. Jekyll and Mr. Hyde by Robert Louis Stevenson (170).txt 159542\n",
            "./HW1_Dataset/./The Romance of Lust_ A Classic Victorian erotic novel by Anonymous (294).txt 1051148\n",
            "./HW1_Dataset/./The Scarlet Letter by Nathaniel Hawthorne (211).txt 506975\n",
            "./HW1_Dataset/./The Mysterious Affair at Styles by Agatha Christie (115).txt 340770\n",
            "./HW1_Dataset/./The Picture of Dorian Gray by Oscar Wilde (282).txt 453169\n",
            "./HW1_Dataset/./The Souls of Black Folk by W. E. B.  Du Bois (172).txt 421336\n",
            "./HW1_Dataset/./The Turn of the Screw by Henry James (185).txt 248089\n",
            "./HW1_Dataset/./Walden, and On The Duty Of Civil Disobedience by Henry David Thoreau (180).txt 656207\n",
            "./HW1_Dataset/./Ulysses by James Joyce (282).txt 1534140\n",
            "./HW1_Dataset/./Treasure Island by Robert Louis Stevenson (236).txt 383675\n",
            "./HW1_Dataset/./The Tragedy of Romeo and Juliet by William Shakespeare (131).txt 174128\n",
            "./HW1_Dataset/./The Works of Edgar Allan Poe — Volume 2 by Edgar Allan Poe (137).txt 569966\n",
            "./HW1_Dataset/./Uncle Tom's Cabin by Harriet Beecher Stowe (108).txt 1025501\n",
            "./HW1_Dataset/./The Wendigo by Algernon Blackwood (174).txt 127464\n",
            "./HW1_Dataset/./The Time Machine by H. G.  Wells (137).txt 198281\n",
            "./HW1_Dataset/./The Wonderful Wizard of Oz by L. Frank  Baum (150).txt 227654\n",
            "./HW1_Dataset/./Through the Looking-Glass by Lewis Carroll (134).txt 181667\n",
            "./HW1_Dataset/./The Tragical History of Doctor Faustus by Christopher Marlowe (144).txt 143736\n",
            "./HW1_Dataset/./The Yellow Wallpaper by Charlotte Perkins Gilman (462).txt 50841\n",
            "./HW1_Dataset/./War and Peace by graf Leo Tolstoy (251).txt 3227580\n",
            "./HW1_Dataset/./Wuthering Heights by Emily Brontë (179) (Unicode Encoding Conflict).txt 669150\n"
          ]
        }
      ],
      "source": [
        "########################################################################\n",
        "######################### Write your code here #########################\n",
        "########################################################################\n",
        "from google.colab import drive\n",
        "drive.mount('/content/drive')\n",
        "\n",
        "# Change to the directory where your dataset is located\n",
        "%cd /content/drive/MyDrive/HW1/HW1_Dataset\n",
        "\n",
        "import glob\n",
        "allBooks = glob.glob('./*.txt')\n",
        "\n",
        "# Iterate through each book file\n",
        "for book in allBooks:\n",
        "    # Print the file name and the length of the book's content\n",
        "    print(f\"./HW1_Dataset/{book} {len(open(book).read())}\")"
      ]
    },
    {
      "cell_type": "markdown",
      "metadata": {
        "id": "h4IN94683QXD"
      },
      "source": [
        "**Subpart ii [5 pts].** Copy and paste your code from **subpart i** into the code cell below. Then in the code cell below, modify the code so that it prints out the top 15 longest books (in terms of raw string length, which is what you had already computed). In particular, please write your code so that the printout is of the following format:\n",
        "\n",
        "```\n",
        "1. <number of characters in longest text file> <filename of longest text file>\n",
        "2. <number of characters in 2nd longest text file> <filename of 2nd longest text file>\n",
        "...\n",
        "15. <number of characters in 15th longest text file> <filename of 15th longest text file>\n",
        "```\n",
        "\n",
        "Note: only print out information for the top 15 books in the format above; please do not repeat printing what we asked you to print in **subpart i**."
      ]
    },
    {
      "cell_type": "code",
      "execution_count": 6,
      "metadata": {
        "colab": {
          "base_uri": "https://localhost:8080/",
          "height": 0
        },
        "id": "aUn6ia_n3QXE",
        "outputId": "b9b41f1f-8389-49ad-c42e-e734e33c19f1"
      },
      "outputs": [
        {
          "output_type": "stream",
          "name": "stdout",
          "text": [
            "1. <5465100> <./The Complete Works of William Shakespeare by William Shakespeare (132).txt>\n",
            "2. <4351846> <./The King James Version of the Bible (132).txt>\n",
            "3. <3254333> <./Les Misérables by Victor Hugo (165) (Unicode Encoding Conflict).txt>\n",
            "4. <3227580> <./War and Peace by graf Leo Tolstoy (251).txt>\n",
            "5. <3033575> <./Essays of Michel de Montaigne — Complete by Michel de Montaigne (205).txt>\n",
            "6. <2643849> <./The Count of Monte Cristo, Illustrated by Alexandre Dumas (160).txt>\n",
            "7. <1534140> <./Ulysses by James Joyce (282).txt>\n",
            "8. <1378627> <./My Secret Life, Volumes I. to III. by Anonymous (157).txt>\n",
            "9. <1238569> <./Moby Dick; Or, The Whale by Herman Melville (413).txt>\n",
            "10. <1231784> <./Leviathan by Thomas Hobbes (417).txt>\n",
            "11. <1214387> <./The Republic by Plato (246).txt>\n",
            "12. <1200021> <./The History of the Peloponnesian War by Thucydides (122).txt>\n",
            "13. <1175588> <./The Iliad by Homer (256).txt>\n",
            "14. <1167141> <./The Federalist Papers by Alexander Hamilton and John Jay and James Madison (116).txt>\n",
            "15. <1154508> <./Prestuplenie i nakazanie. English by Fyodor Dostoyevsky (160).txt>\n"
          ]
        }
      ],
      "source": [
        "########################################################################\n",
        "######################### Write your code here #########################\n",
        "########################################################################\n",
        "# import glob\n",
        "\n",
        "# List all text files in the HW1_Dataset directory\n",
        "# allBooks = glob.glob('./HW1_Dataset/*.txt')\n",
        "\n",
        "book_lengths = []\n",
        "# Iterate through each book file\n",
        "for book in allBooks:\n",
        "    # Open the book file and read its contents\n",
        "    with open(book) as file:\n",
        "        contents = file.read()\n",
        "\n",
        "    book_lengths.append((len(contents), book))\n",
        "\n",
        "# Sort the list of tuples by the first element (length) in descending order\n",
        "book_lengths_sorted = sorted(book_lengths, key=lambda x: x[0], reverse=True)\n",
        "\n",
        "# Print out the top 15 longest books\n",
        "for i in range(15):\n",
        "    length, filename = book_lengths_sorted[i]\n",
        "    print(f\"{i+1}. <{length}> <{filename}>\")"
      ]
    },
    {
      "cell_type": "markdown",
      "metadata": {
        "id": "WLqIEjG53QXF"
      },
      "source": [
        "**Subpart iii [5 pts].** You should find that some of the books are quite long. Processing very long books will be problematic with spaCy, so we will want to chop up long books into pieces. Note that later on in the course, we shall see that chopping up large amounts of data into small pieces or \"batches\" is in fact quite common in machine learning since for massive datasets, we often cannot store them in their entirety on a CPU or GPU for processing all at once.\n",
        "\n",
        "As a toy example, suppose that a book's text is `'cat dog shark spam eggs'` and we want to split it up into batches where each batch has at most 3 words. Then we could split up the book's text into two batches/pieces: `'cat dog shark'` and `'spam eggs'`.\n",
        "\n",
        "We have provided code for you to do this below."
      ]
    },
    {
      "cell_type": "code",
      "execution_count": 7,
      "metadata": {
        "colab": {
          "base_uri": "https://localhost:8080/",
          "height": 0
        },
        "id": "fJtWl5Js3QXF",
        "outputId": "5b8907db-2f83-41a9-af20-779fc1b085bb"
      },
      "outputs": [
        {
          "output_type": "stream",
          "name": "stdout",
          "text": [
            "['cat dog shark', 'spam eggs']\n"
          ]
        }
      ],
      "source": [
        "import numpy as np\n",
        "\n",
        "def split_into_batches(book_text, max_num_words_per_batch):\n",
        "    words_split_on_spaces = book_text.split(' ')\n",
        "    num_book_pieces = int(np.ceil(len(words_split_on_spaces) / max_num_words_per_batch))\n",
        "    batches = []\n",
        "    for piece_idx in range(num_book_pieces):\n",
        "        start_idx = piece_idx * max_num_words_per_batch\n",
        "        end_idx = (piece_idx + 1) * max_num_words_per_batch\n",
        "        if end_idx > len(words_split_on_spaces):\n",
        "            end_idx = len(words_split_on_spaces)\n",
        "        book_piece = ' '.join(words_split_on_spaces[start_idx:end_idx])\n",
        "        batches.append(book_piece)\n",
        "    return batches\n",
        "\n",
        "print(split_into_batches('cat dog shark spam eggs', 3))"
      ]
    },
    {
      "cell_type": "markdown",
      "metadata": {
        "id": "xp5CkMGg3QXG"
      },
      "source": [
        "Now write a loop that goes through all 100 books again. However, for each book, split it up into batches so that each batch has at most 10000 words. In this case, how many batches are there total across all 100 books? Please write code that computes this number of batches. Your code should print out the following (with the correct total number of batches):\n",
        "\n",
        "```\n",
        "Total number of batches: <total number of batches across all 100 books>\n",
        "```"
      ]
    },
    {
      "cell_type": "code",
      "execution_count": 8,
      "metadata": {
        "colab": {
          "base_uri": "https://localhost:8080/",
          "height": 0
        },
        "id": "sEbBWXJB3QXG",
        "outputId": "9ba84d5a-2b39-4858-a68d-d835853a41b7"
      },
      "outputs": [
        {
          "output_type": "stream",
          "name": "stdout",
          "text": [
            "Total number of batches: 1246\n"
          ]
        }
      ],
      "source": [
        "########################################################################\n",
        "######################### Write your code here #########################\n",
        "########################################################################\n",
        "\n",
        "# Initialize the total number of batches\n",
        "total_batches = 0\n",
        "\n",
        "# Iterate over each book file\n",
        "for book in allBooks:\n",
        "    with open(book) as file:\n",
        "        contents = file.read()\n",
        "        # Get the batches for the current book\n",
        "        batches = split_into_batches(contents, 10000)\n",
        "        # Update the total number of batches\n",
        "        total_batches += len(batches)\n",
        "\n",
        "# Print out the total number of batches\n",
        "print(f\"Total number of batches: {total_batches}\")\n"
      ]
    },
    {
      "cell_type": "markdown",
      "metadata": {
        "id": "JuIdYVex3QXH"
      },
      "source": [
        "**(b) [10 pts]** Now we will finally use spaCy. Note that for this problem, you don't actually need `spaCy`'s named entity recognition or grammatical parsing. Turning these elements off when you instantiate the `nlp` object can substantially speed up your code. To make sure these are off when instantiating the `nlp` object, call:\n",
        "\n",
        "```python\n",
        "nlp = spacy.load('en_core_web_sm', disable=['ner', 'parser'])\n",
        "```\n",
        "\n",
        "**Throughout this problem, do not remove stopwords.**\n",
        "\n",
        "Build a term frequency (raw counts) table that is for all 100 books. Specifically, building on your solution to part (a)-subpart iii, read in a single book at a time and for each book, do the following:\n",
        "\n",
        "  1. Split it up into batches where each batch has at most 10000 words.\n",
        "  2. For each batch:\n",
        "    1. Process the batch by separating and lemmatizing the words\n",
        "    2. Count the number of times each lemma appears and add these to the frequency table. For simplicity, **do not convert lemmas to lowercase**. (Note that we use raw counts as the \"frequency\"--do not do any division.) Also, as we explain below, we will only count lemmas that are alphabetic.\n",
        "\n",
        "Note that just as we had said in part (a): do **not** print out the complete contents of every book since doing so will result in a Jupyter notebook file that is massive.\n",
        "\n",
        "After looping through all 100 books, you should have the term frequency table for the entire corpus (importantly, the frequency table should not just be for a single book; it should be for all 100 books). Sort the table and print the top 50 most frequent words, along with their frequencies and ranks. Don't worry about ties (for example, if multiple things have the same frequency, it's fine if your solution breaks ties arbitrarily in the sorting).\n",
        "\n",
        "Note: When counting the lemmas, only include lemmas that consist of alphabetic letters (a-z and A-Z). You can do this with what's called a *regular expression*. For example, to check whether the words \"will.i.am\" or \"Tesla\" are alphabetic, you would do the following:\n",
        "\n",
        "```python\n",
        "import re  # regular expression package\n",
        "if re.match('[a-zA-Z]+$', 'will.i.am'):\n",
        "    print('will.i.am consists only of alphabetic letters!')\n",
        "if re.match('[a-zA-Z]+$', 'Tesla'):\n",
        "    print('tesla consists only of alphabetic letters!')\n",
        "```"
      ]
    },
    {
      "cell_type": "code",
      "execution_count": 9,
      "metadata": {
        "colab": {
          "base_uri": "https://localhost:8080/",
          "height": 0
        },
        "id": "Gol2PG1flcHi",
        "outputId": "0f7fa590-db9a-4976-c6be-9de1d1d091a8"
      },
      "outputs": [
        {
          "output_type": "stream",
          "name": "stdout",
          "text": [
            "1. the: 702465\n",
            "2. and: 435424\n",
            "3. be: 430228\n",
            "4. of: 386347\n",
            "5. to: 324409\n",
            "6. I: 255129\n",
            "7. a: 233423\n",
            "8. in: 204252\n",
            "9. he: 193622\n",
            "10. that: 159010\n",
            "11. have: 158115\n",
            "12. it: 135431\n",
            "13. his: 108536\n",
            "14. you: 102595\n",
            "15. with: 101227\n",
            "16. they: 96821\n",
            "17. not: 96098\n",
            "18. for: 95320\n",
            "19. as: 90702\n",
            "20. she: 78524\n",
            "21. but: 75599\n",
            "22. my: 73983\n",
            "23. do: 68754\n",
            "24. at: 64947\n",
            "25. on: 62833\n",
            "26. by: 61274\n",
            "27. this: 61240\n",
            "28. we: 60300\n",
            "29. which: 58868\n",
            "30. all: 58636\n",
            "31. say: 58348\n",
            "32. from: 50095\n",
            "33. so: 47999\n",
            "34. or: 47810\n",
            "35. her: 42838\n",
            "36. one: 41123\n",
            "37. man: 39585\n",
            "38. their: 38418\n",
            "39. what: 37851\n",
            "40. no: 37808\n",
            "41. there: 37209\n",
            "42. will: 36772\n",
            "43. if: 34898\n",
            "44. go: 33897\n",
            "45. when: 33587\n",
            "46. an: 32517\n",
            "47. come: 32358\n",
            "48. see: 32024\n",
            "49. who: 30934\n",
            "50. would: 30872\n"
          ]
        }
      ],
      "source": [
        "import spacy\n",
        "from collections import Counter\n",
        "import re\n",
        "\n",
        "# Load spaCy's small English model\n",
        "nlp = spacy.load('en_core_web_sm', disable=['ner', 'parser'])\n",
        "\n",
        "# Precompile the regular expression\n",
        "alpha_only = re.compile('^[a-zA-Z]+$').match\n",
        "\n",
        "frequency_table = Counter()\n",
        "\n",
        "# Process the batch using spaCy for lemmatization\n",
        "def process_batch(batch):\n",
        "    # Process the batch of text\n",
        "    doc = nlp(batch)\n",
        "    # Use a list comprehension to filter and count tokens\n",
        "    frequency_table.update(\n",
        "        [token.lemma_ for token in doc if alpha_only(token.text)]\n",
        "    )\n",
        "\n",
        "# Integrate with existing loop that processes each book\n",
        "for book in allBooks:\n",
        "    with open(book, 'r', encoding='utf-8') as file:\n",
        "        contents = file.read()\n",
        "        batches = split_into_batches(contents, 10000)\n",
        "        for batch in batches:\n",
        "            process_batch(batch)\n",
        "\n",
        "# Print the top 50 lemmas\n",
        "most_common_50 = frequency_table.most_common(50)\n",
        "\n",
        "for rank, (lemma, frequency) in enumerate(most_common_50, 1):\n",
        "    print(f\"{rank}. {lemma}: {frequency}\")\n"
      ]
    },
    {
      "cell_type": "markdown",
      "metadata": {
        "id": "agOi3BVc3QXI"
      },
      "source": [
        "**(c) [10 pts]** Visualize the frequency table by plotting a **raw scatter plot** (put frequency as the y-axis and rank as the x-axis), and a **log-log plot** (use logarithmic scales on both the x- and y- axes). Note that this should be for all words and not only the top 50. As before, for the ranks, do not worry about ties, i.e., break ties arbitrarily."
      ]
    },
    {
      "cell_type": "code",
      "execution_count": 10,
      "metadata": {
        "id": "60T9cKkm3QXJ",
        "colab": {
          "base_uri": "https://localhost:8080/",
          "height": 718
        },
        "outputId": "3a6ca846-c190-4451-b7dc-46329f32dbac"
      },
      "outputs": [
        {
          "output_type": "display_data",
          "data": {
            "text/plain": [
              "<Figure size 1000x800 with 1 Axes>"
            ],
            "image/png": "[encoded data removed]"
          },
          "metadata": {}
        }
      ],
      "source": [
        "# Raw scatter plot\n",
        "########################################################################\n",
        "######################### Write your code here #########################\n",
        "########################################################################\n",
        "import matplotlib.pyplot as plt\n",
        "import numpy as np\n",
        "\n",
        "# Extract ranks and frequencies\n",
        "ranks = range(1, len(frequency_table) + 1)\n",
        "frequencies = [freq for (word, freq) in frequency_table.most_common()]\n",
        "\n",
        "# Raw scatter plot\n",
        "plt.figure(figsize=(10, 8))\n",
        "plt.scatter(ranks, frequencies)\n",
        "plt.title('Frequency vs. Rank')\n",
        "plt.xlabel('Rank')\n",
        "plt.ylabel('Frequency')\n",
        "plt.show()\n",
        "\n"
      ]
    },
    {
      "cell_type": "code",
      "execution_count": 11,
      "metadata": {
        "id": "X_Ysb30I3QXJ",
        "colab": {
          "base_uri": "https://localhost:8080/",
          "height": 723
        },
        "outputId": "a52bb3a6-276c-420e-cc56-9a370b5323d4"
      },
      "outputs": [
        {
          "output_type": "display_data",
          "data": {
            "text/plain": [
              "<Figure size 1000x800 with 1 Axes>"
            ],
            "image/png": "[encoded data removed]"
          },
          "metadata": {}
        }
      ],
      "source": [
        "# Log-log plot\n",
        "########################################################################\n",
        "######################### Write your code here #########################\n",
        "########################################################################\n",
        "\n",
        "# Log-log plot\n",
        "plt.figure(figsize=(10, 8))\n",
        "plt.loglog(ranks, frequencies)\n",
        "plt.title('Log-Log of Frequency vs. Rank')\n",
        "plt.xlabel('Rank (log scale)')\n",
        "plt.ylabel('Frequency (log scale)')\n",
        "plt.show()"
      ]
    },
    {
      "cell_type": "markdown",
      "metadata": {
        "id": "L5_TEXnK3QXK"
      },
      "source": [
        "**(d) [10 pts across subparts]** Let's now try to make sense of the very last plot in part **(c)**. Zipf's law states that term frequency is governed by a power law, i.e. the relationship between term frequency and rank can be approximated by $f(r) = cr^{-1}$, where $f(r)$ is the frequency of the term at rank $r$, $r$ is the rank of a term, and $c$ is a constant that is approximately 0.1*(corpus size) for English.\n",
        "\n",
        "Please answer the following questions:\n",
        "\n",
        "**Subpart i [2 pts].** What do you observe in the log-log plot above? Is this consist with the power law?"
      ]
    },
    {
      "cell_type": "markdown",
      "metadata": {
        "id": "bzQrSMvj3QXK"
      },
      "source": [
        "Your text answer (for this question, your answer is *not* code):\n",
        "**The plot shows an approximate straight line with a negative slope, this is consistent with the power law and hence with Zipf's law.**\n",
        "\n",
        "**Here, in the center,**\n",
        "\n",
        "y = 10^4 corresponds to x = 10^2\n",
        "\n",
        "y = 10^3 corresponds to x = 10^3\n",
        "\n",
        "y = 10^2 corresponds to x = 10^4\n",
        "\n",
        "The slope of the line on the log-log plot represents the exponent a in the equation. For true Zipfian distributions, this is close to -1. The top and bottom ends might deviate more due to common words being higher/lower than predicted, but the middle is pretty consistent."
      ]
    },
    {
      "cell_type": "markdown",
      "metadata": {
        "id": "5uohZkQe3QXL"
      },
      "source": [
        "**Subpart ii [4 pts].** Think of the corpus as a (large) unigram bag of words. Following the analogy from lecture, imagine drawing a single word from this big bag (note that we are assuming that we've lemmatized the words and also filtered out non-alphabetic words; thus what remains in the bag are actually alphabetic lemmas). What is the probability of drawing one of the 4 most frequent alphabetic lemmas? What is the probability of drawing one of the 50 most frequent alphabetic lemmas? Answer these two questions using code rather than just entering in the final answers as numbers."
      ]
    },
    {
      "cell_type": "code",
      "execution_count": 16,
      "metadata": {
        "id": "Nq9arXCg3QXL",
        "colab": {
          "base_uri": "https://localhost:8080/",
          "height": 0
        },
        "outputId": "72fee80b-eb13-471f-8b25-3d93fe4285c4"
      },
      "outputs": [
        {
          "output_type": "stream",
          "name": "stdout",
          "text": [
            "Probability of drawing one of the 4 most frequent alphabetic lemmas: \n",
            "0.16211773373399146\n",
            "Probability of drawing one of the 50 most frequent alphabetic lemmas: \n",
            "0.48201198241747084\n"
          ]
        }
      ],
      "source": [
        "print('Probability of drawing one of the 4 most frequent alphabetic lemmas: ')\n",
        "########################################################################\n",
        "######################### Write your code here #########################\n",
        "########################################################################\n",
        "total_words = sum(frequency_table.values())\n",
        "top_4_sum_freq = sum(freq for word, freq in frequency_table.most_common(4))\n",
        "probability_top_4 = top_4_sum_freq / total_words\n",
        "print(probability_top_4)\n",
        "\n",
        "print('Probability of drawing one of the 50 most frequent alphabetic lemmas: ')\n",
        "########################################################################\n",
        "######################### Write your code here #########################\n",
        "########################################################################\n",
        "top_50_sum_freq = sum(freq for word, freq in frequency_table.most_common(50))\n",
        "probability_top_50 = top_50_sum_freq / total_words\n",
        "print(probability_top_50)\n"
      ]
    },
    {
      "cell_type": "markdown",
      "metadata": {
        "id": "dbhVrZDC3QXM"
      },
      "source": [
        "**Subpart iii [4 pts].** What proportion of the alphabetic lemmas occur only once? What proportion of the alphabetic lemmas occur fewer than 10 times?"
      ]
    },
    {
      "cell_type": "code",
      "execution_count": 18,
      "metadata": {
        "id": "j6dBXw8t3QXM",
        "scrolled": true,
        "colab": {
          "base_uri": "https://localhost:8080/",
          "height": 0
        },
        "outputId": "b982b2e3-7a8d-4622-8e1c-c1245a71f70b"
      },
      "outputs": [
        {
          "output_type": "stream",
          "name": "stdout",
          "text": [
            "Occur only once: \n",
            "0.44752701015255986\n",
            "Occur fewer than 10 times: \n",
            "0.7815570877897823\n"
          ]
        }
      ],
      "source": [
        "print(\"Occur only once: \")\n",
        "########################################################################\n",
        "######################### Write your code here #########################\n",
        "########################################################################\n",
        "\n",
        "# Calculate the total number of unique lemmas\n",
        "total_lemmas = len(frequency_table)\n",
        "\n",
        "# Count lemmas that occur only once\n",
        "lemmas_occur_once = sum(1 for word, freq in frequency_table.items() if freq == 1)\n",
        "\n",
        "# Count lemmas that occur fewer than 10 times\n",
        "lemmas_occur_fewer_than_10 = sum(1 for word, freq in frequency_table.items() if freq < 10)\n",
        "\n",
        "# Calculate proportions\n",
        "proportion_once = lemmas_occur_once / total_lemmas\n",
        "proportion_fewer_than_10 = lemmas_occur_fewer_than_10 / total_lemmas\n",
        "print(proportion_once)\n",
        "\n",
        "print(\"Occur fewer than 10 times: \")\n",
        "########################################################################\n",
        "######################### Write your code here #########################\n",
        "########################################################################\n",
        "print(proportion_fewer_than_10)\n"
      ]
    },
    {
      "cell_type": "markdown",
      "metadata": {
        "id": "Eq3tUjVa3QXM"
      },
      "source": [
        "### [Problem 2] Entity Recognition and Pointwise Mutual Information (PMI) [50 pts]\n",
        "By using the entity recognition system in `spaCy`, let's identify named entities from newspaper articles. You'll be using Reuters corpus which contains more than ten thousand newspaper articles. To run the code below, you need to download the Reuters dataset. To do so, in a terminal/command line (recall that you can open a terminal from Jupyter's webpage that shows all the files, which by default is [http://localhost:8888/tree](http://localhost:8888/tree)), start up Python and enter:\n",
        "\n",
        "```python\n",
        "import nltk\n",
        "nltk.download('reuters')\n",
        "```\n",
        "\n",
        "Then proceed to the problem subparts below.\n",
        "\n",
        "Note that in this problem you will need named entity recognition but not grammatical parsing. Hence, you will want to instantiate the nlp object by calling:\n",
        "\n",
        "```python\n",
        "nlp = spacy.load('en_core_web_sm', disable=['parser'])\n",
        "```\n"
      ]
    },
    {
      "cell_type": "code",
      "source": [
        "import nltk\n",
        "nltk.download('reuters')\n",
        "nlp = spacy.load('en_core_web_sm', disable=['parser'])"
      ],
      "metadata": {
        "colab": {
          "base_uri": "https://localhost:8080/",
          "height": 0
        },
        "id": "_yqmDGJbtexX",
        "outputId": "eb1e1df7-ec74-4c9b-901c-6d7bf196ecb0"
      },
      "execution_count": 47,
      "outputs": [
        {
          "output_type": "stream",
          "name": "stderr",
          "text": [
            "[nltk_data] Downloading package reuters to /root/nltk_data...\n",
            "[nltk_data]   Package reuters is already up-to-date!\n"
          ]
        }
      ]
    },
    {
      "cell_type": "markdown",
      "metadata": {
        "id": "nrdo7pjz3QXN"
      },
      "source": [
        "**(a) [15 pts]** Draw a bar chart in which one of the axes shows entity labels and the other shows the frequency of the corresponding label. Use the variables `reuters_nlp` and `label_counter` provided in the code below."
      ]
    },
    {
      "cell_type": "code",
      "execution_count": 48,
      "metadata": {
        "id": "JtATUYBZ3QXN",
        "scrolled": false,
        "colab": {
          "base_uri": "https://localhost:8080/",
          "height": 748
        },
        "outputId": "101d683b-4d40-4535-a7b3-319706714260"
      },
      "outputs": [
        {
          "output_type": "display_data",
          "data": {
            "text/plain": [
              "<Figure size 1200x800 with 1 Axes>"
            ],
            "image/png": "[encoded data removed]"
          },
          "metadata": {}
        }
      ],
      "source": [
        "import matplotlib.pyplot as plt\n",
        "from collections import Counter\n",
        "from nltk.corpus import reuters\n",
        "import re\n",
        "import spacy\n",
        "nlp = spacy.load('en_core_web_sm', disable=['parser', 'tagger'])\n",
        "reuters_fileids = reuters.fileids()  # hint: when first debugging, consider looking at just the first few\n",
        "reuters_nlp = [nlp(re.sub('\\s+',' ', reuters.raw(i)).strip()) for i in reuters_fileids]\n",
        "label_counter = Counter()\n",
        "\n",
        "########################################################################\n",
        "######################### Write your code here #########################\n",
        "########################################################################\n",
        "\n",
        "for doc in reuters_nlp:\n",
        "    label_counter.update([ent.label_ for ent in doc.ents])\n",
        "\n",
        "# Prepare data for plotting\n",
        "labels, counts = zip(*label_counter.items())\n",
        "\n",
        "# Plotting\n",
        "plt.figure(figsize=(12, 8))\n",
        "plt.bar(labels, counts, color='skyblue')\n",
        "plt.xlabel('Entity Labels')\n",
        "plt.ylabel('Frequency')\n",
        "plt.title('Frequency of Named Entity Labels in the Reuters Corpus')\n",
        "plt.xticks(rotation=90)\n",
        "plt.show()\n"
      ]
    },
    {
      "cell_type": "markdown",
      "metadata": {
        "id": "QexizW4H3QXO"
      },
      "source": [
        "**(b) [15 pts]** Now list the top 10 most frequently occurring entities (entity text and the number of occurence) with label `ORG` (organization). Separately list the top 10 most frequently occurring entities with label `GPE` (geopolitical entity such as countries, cities, states) respectively. **In both cases, please convert the entity names to lowercase first before computing the top 10.**\n",
        "\n",
        "Here, when counting the (raw count) frequency, we need to count how many articles have an entity with the desired property. For every article, we add 1 if the article has the entity and 0 otherwise."
      ]
    },
    {
      "cell_type": "code",
      "execution_count": 49,
      "metadata": {
        "id": "UWPrAwzx3QXO",
        "colab": {
          "base_uri": "https://localhost:8080/",
          "height": 0
        },
        "outputId": "96fcfd5b-ff44-4699-8803-d4a50d14de4d"
      },
      "outputs": [
        {
          "output_type": "stream",
          "name": "stdout",
          "text": [
            "Top 10 ORG Entities:\n",
            "cts: 1115\n",
            "reuters: 444\n",
            "the securities and exchange commission: 248\n",
            "ec: 231\n",
            "fed: 230\n",
            "treasury: 228\n",
            "cts net: 179\n",
            "the u.s. agriculture department: 170\n",
            "usda: 154\n",
            "the bank of england: 143\n",
            "\n",
            "Top 10 GPE Entities:\n",
            "u.s.: 1631\n",
            "japan: 579\n",
            "the united states: 383\n",
            "u.k.: 297\n",
            "canada: 295\n",
            "new york: 251\n",
            "west germany: 236\n",
            "washington: 230\n",
            "london: 216\n",
            "brazil: 201\n"
          ]
        }
      ],
      "source": [
        "########################################################################\n",
        "######################### Write your code here #########################\n",
        "########################################################################\n",
        "from collections import defaultdict, Counter\n",
        "\n",
        "# Initializing default dictionaries with set as the default factory\n",
        "org_entities = defaultdict(set)\n",
        "gpe_entities = defaultdict(set)\n",
        "\n",
        "# Process each article and extract entities\n",
        "for i, doc in enumerate(reuters_nlp):\n",
        "    for ent in doc.ents:\n",
        "        if ent.label_ == \"ORG\":\n",
        "            # Add the lowercase entity text to the set for the article\n",
        "            org_entities[i].add(ent.text.lower())\n",
        "        elif ent.label_ == \"GPE\":\n",
        "            # Add the lowercase entity text to the set for the article\n",
        "            gpe_entities[i].add(ent.text.lower())\n",
        "\n",
        "# Flatten the sets into lists to count overall frequency\n",
        "org_counter = Counter([entity for entities in org_entities.values() for entity in entities])\n",
        "gpe_counter = Counter([entity for entities in gpe_entities.values() for entity in entities])\n",
        "\n",
        "# Get the top 10 most frequent ORG and GPE entities\n",
        "top_10_org = org_counter.most_common(10)\n",
        "top_10_gpe = gpe_counter.most_common(10)\n",
        "\n",
        "# Print the top 10 ORG and GPE entities\n",
        "print(\"Top 10 ORG Entities:\")\n",
        "for entity, count in top_10_org:\n",
        "    print(f\"{entity}: {count}\")\n",
        "\n",
        "print(\"\\nTop 10 GPE Entities:\")\n",
        "for entity, count in top_10_gpe:\n",
        "    print(f\"{entity}: {count}\")\n"
      ]
    },
    {
      "cell_type": "markdown",
      "metadata": {
        "id": "lKeRVM6a3QXO"
      },
      "source": [
        "**(c) [20 pts]** Give the top 50 `GPE` (countries, cities, states) entities that have the highest Pointwise Mutual Information (PMI) values with regard to the `ORG` (organization) entity **'opec'** (your list of this top 50 should be ranked in decreasing PMI value). Did you find any unexpected results? If so, why do you think it happened? If you found some of the results to be unsurprisingly, how come? **Just like in the previous part, please convert entity names to lowercase in your analysis.**\n",
        "\n",
        "Hint 1: As in lecture, when computing PMI, we will compute probabilities by counting the number of documents where entities occur or co-occur.  For example, $P('opec') = \\frac{number \\ \\ of \\ \\ documents \\ \\ containing \\ \\ 'opec'}{number \\ \\ of \\ \\ documents}$.  \n",
        "\n",
        "Hint 2: To compute this ranking, you do not have to compute the full PMI equation."
      ]
    },
    {
      "cell_type": "code",
      "execution_count": 50,
      "metadata": {
        "id": "6Xx93_VO3QXP",
        "colab": {
          "base_uri": "https://localhost:8080/",
          "height": 0
        },
        "outputId": "976b60bb-76d3-4d72-a4ff-510aa157988d"
      },
      "outputs": [
        {
          "output_type": "stream",
          "name": "stdout",
          "text": [
            "Top GPE entities by PMI with 'opec':\n",
            "brent: 4.482169\n",
            "ula fields: 4.482169\n",
            "emirates: 4.482169\n",
            "the lake charles: 4.482169\n",
            "bethesda: 4.482169\n",
            "franco: 4.482169\n",
            "gabon: 4.482169\n",
            "opec: 4.482169\n",
            "saudi arabia reiterates commitment to: 4.482169\n",
            "yanbu: 4.482169\n",
            "el salado: 4.482169\n",
            "aguarico: 4.482169\n",
            "ras tanurah: 4.482169\n",
            "ju'aymah: 4.482169\n",
            "jubail: 4.482169\n",
            "tripoli: 4.482169\n",
            "doha: 4.482169\n",
            "guayaquil: 4.482169\n",
            "tihamah: 4.482169\n",
            "redoglia: 4.482169\n",
            "carrington: 4.482169\n",
            "materialy: 4.482169\n",
            "vienna: 4.348637\n",
            "riyadh: 4.328018\n",
            "dunham: 4.328018\n",
            "saudi arabia's: 4.224340\n",
            "statfjord: 4.194487\n",
            "quito: 4.076704\n",
            "kahan: 4.076704\n",
            "ecuador: 4.021215\n",
            "dubai: 3.996661\n",
            "qatar: 3.971343\n",
            "balao: 3.971343\n",
            "nigeria: 3.906804\n",
            "saudi arabia: 3.841665\n",
            "nordic: 3.789021\n",
            "caracas: 3.789021\n",
            "oseberg: 3.789021\n",
            "la: 3.789021\n",
            "libya: 3.720029\n",
            "petromin: 3.565878\n",
            "kuwait: 3.542161\n",
            "the united arab emirates: 3.533088\n",
            "venezuela: 3.511811\n",
            "lago agrio: 3.383556\n",
            "lagos: 3.383556\n",
            "norway: 3.229406\n",
            "jakarta: 3.229406\n",
            "iceland: 3.095874\n",
            "alexandria: 3.095874\n"
          ]
        }
      ],
      "source": [
        "from math import log\n",
        "# Initialize counters\n",
        "opec_counter = 0\n",
        "gpe_counter = Counter()\n",
        "co_occurrence_counter = Counter()\n",
        "\n",
        "# Count occurrences and co-occurrences in the documents\n",
        "for doc in reuters_nlp:\n",
        "    has_opec = 'opec' in [ent.text.lower() for ent in doc.ents if ent.label_ == 'ORG']\n",
        "    gpe_entities = [ent.text.lower() for ent in doc.ents if ent.label_ == 'GPE']\n",
        "\n",
        "    if has_opec:\n",
        "        opec_counter += 1\n",
        "        co_occurrence_counter.update(gpe_entities)\n",
        "\n",
        "    gpe_counter.update(gpe_entities)\n",
        "\n",
        "# Calculate the probabilities based on the counters\n",
        "total_docs = len(reuters.fileids())\n",
        "gpe_probabilities = {gpe: count / total_docs for gpe, count in gpe_counter.items()}\n",
        "opec_probability = opec_counter / total_docs\n",
        "co_occurrence_probabilities = {gpe: count / total_docs for gpe, count in co_occurrence_counter.items()}\n",
        "\n",
        "# Calculate PMI scores using these probabilities\n",
        "pmi_scores = Counter()\n",
        "for gpe in gpe_probabilities:\n",
        "    # Use gpe as the key\n",
        "    if gpe in co_occurrence_probabilities and co_occurrence_probabilities[gpe] > 0:\n",
        "        # Compute the PMI score using natural log\n",
        "        pmi = log(co_occurrence_probabilities[gpe] / (gpe_probabilities[gpe] * opec_probability))\n",
        "        pmi_scores[gpe] = pmi\n",
        "\n",
        "# Sort the PMI scores from largest to smallest\n",
        "sorted_pmi_scores = pmi_scores.most_common()\n",
        "\n",
        "# Print out the GPE entities with the highest PMI with 'opec'\n",
        "print(\"Top GPE entities by PMI with 'opec':\")\n",
        "for gpe, pmi_score in sorted_pmi_scores[:50]:\n",
        "    print(f\"{gpe}: {pmi_score:.6f}\")"
      ]
    },
    {
      "cell_type": "markdown",
      "metadata": {
        "id": "jxMBGiXI3QXP"
      },
      "source": [
        "Your text answer (for this question, your answer is *not* code):\n",
        "The unexpected result in the data is that all the top GPE entities have the exact same PMI score when associated with 'opec'. This is unusual because it suggests that each of these entities is equally likely to co-occur with 'opec' across different documents, which is statistically improbable in a large, varied news corpus.\n",
        "\n",
        "The Reuters corpus might have a specific collection of articles where 'opec' is mentioned in a very consistent context, particularly in articles that are exclusively about the oil industry.\n",
        "\n",
        "On the other hand, it's unsurprising to see these particular entities associated with 'opec' because they are directly related to the oil industry, which is 'opec's area of influence. Places like 'brent', and oil-producing countries and cities, are naturally mentioned in discussions about oil pricing, policies, and economics, which are 'opec's primary concerns."
      ]
    },
    {
      "cell_type": "markdown",
      "metadata": {
        "id": "XVdoDAx83QXQ"
      },
      "source": [
        "### [Problem 3] Questionnaire [5 pts]\n",
        "\n",
        "Please provide feedback! To receive the 5 points, be sure to enter your Andrew ID correctly in this Google form: https://forms.gle/8heZamsAnE8S7VTWA"
      ]
    }
  ],
  "metadata": {
    "anaconda-cloud": {},
    "colab": {
      "provenance": [],
      "include_colab_link": true
    },
    "kernelspec": {
      "display_name": "Python 3 (ipykernel)",
      "language": "python",
      "name": "python3"
    },
    "language_info": {
      "codemirror_mode": {
        "name": "ipython",
        "version": 3
      },
      "file_extension": ".py",
      "mimetype": "text/x-python",
      "name": "python",
      "nbconvert_exporter": "python",
      "pygments_lexer": "ipython3",
      "version": "3.11.5"
    }
  },
  "nbformat": 4,
  "nbformat_minor": 0
}